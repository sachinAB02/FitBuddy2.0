{
  "nbformat": 4,
  "nbformat_minor": 0,
  "metadata": {
    "colab": {
      "provenance": []
    },
    "kernelspec": {
      "name": "python3",
      "display_name": "Python 3"
    },
    "language_info": {
      "name": "python"
    }
  },
  "cells": [
    {
      "cell_type": "code",
      "source": [
        "pip install coremltools tensorflow"
      ],
      "metadata": {
        "colab": {
          "base_uri": "https://localhost:8080/"
        },
        "id": "V3KOrFOFdmTC",
        "outputId": "ce4c0754-182d-4ca1-bfb5-32e05af05b4d"
      },
      "execution_count": 2,
      "outputs": [
        {
          "output_type": "stream",
          "name": "stdout",
          "text": [
            "Collecting coremltools\n",
            "  Downloading coremltools-7.1-cp310-none-manylinux1_x86_64.whl (1.9 MB)\n",
            "\u001b[2K     \u001b[90m━━━━━━━━━━━━━━━━━━━━━━━━━━━━━━━━━━━━━━━━\u001b[0m \u001b[32m1.9/1.9 MB\u001b[0m \u001b[31m10.1 MB/s\u001b[0m eta \u001b[36m0:00:00\u001b[0m\n",
            "\u001b[?25hRequirement already satisfied: tensorflow in /usr/local/lib/python3.10/dist-packages (2.15.0)\n",
            "Requirement already satisfied: numpy>=1.14.5 in /usr/local/lib/python3.10/dist-packages (from coremltools) (1.25.2)\n",
            "Requirement already satisfied: protobuf<=4.0.0,>=3.1.0 in /usr/local/lib/python3.10/dist-packages (from coremltools) (3.20.3)\n",
            "Requirement already satisfied: sympy in /usr/local/lib/python3.10/dist-packages (from coremltools) (1.12)\n",
            "Requirement already satisfied: tqdm in /usr/local/lib/python3.10/dist-packages (from coremltools) (4.66.2)\n",
            "Requirement already satisfied: packaging in /usr/local/lib/python3.10/dist-packages (from coremltools) (24.0)\n",
            "Requirement already satisfied: attrs>=21.3.0 in /usr/local/lib/python3.10/dist-packages (from coremltools) (23.2.0)\n",
            "Collecting cattrs (from coremltools)\n",
            "  Downloading cattrs-23.2.3-py3-none-any.whl (57 kB)\n",
            "\u001b[2K     \u001b[90m━━━━━━━━━━━━━━━━━━━━━━━━━━━━━━━━━━━━━━━━\u001b[0m \u001b[32m57.5/57.5 kB\u001b[0m \u001b[31m6.6 MB/s\u001b[0m eta \u001b[36m0:00:00\u001b[0m\n",
            "\u001b[?25hCollecting pyaml (from coremltools)\n",
            "  Downloading pyaml-23.12.0-py3-none-any.whl (23 kB)\n",
            "Requirement already satisfied: absl-py>=1.0.0 in /usr/local/lib/python3.10/dist-packages (from tensorflow) (1.4.0)\n",
            "Requirement already satisfied: astunparse>=1.6.0 in /usr/local/lib/python3.10/dist-packages (from tensorflow) (1.6.3)\n",
            "Requirement already satisfied: flatbuffers>=23.5.26 in /usr/local/lib/python3.10/dist-packages (from tensorflow) (24.3.25)\n",
            "Requirement already satisfied: gast!=0.5.0,!=0.5.1,!=0.5.2,>=0.2.1 in /usr/local/lib/python3.10/dist-packages (from tensorflow) (0.5.4)\n",
            "Requirement already satisfied: google-pasta>=0.1.1 in /usr/local/lib/python3.10/dist-packages (from tensorflow) (0.2.0)\n",
            "Requirement already satisfied: h5py>=2.9.0 in /usr/local/lib/python3.10/dist-packages (from tensorflow) (3.9.0)\n",
            "Requirement already satisfied: libclang>=13.0.0 in /usr/local/lib/python3.10/dist-packages (from tensorflow) (18.1.1)\n",
            "Requirement already satisfied: ml-dtypes~=0.2.0 in /usr/local/lib/python3.10/dist-packages (from tensorflow) (0.2.0)\n",
            "Requirement already satisfied: opt-einsum>=2.3.2 in /usr/local/lib/python3.10/dist-packages (from tensorflow) (3.3.0)\n",
            "Requirement already satisfied: setuptools in /usr/local/lib/python3.10/dist-packages (from tensorflow) (67.7.2)\n",
            "Requirement already satisfied: six>=1.12.0 in /usr/local/lib/python3.10/dist-packages (from tensorflow) (1.16.0)\n",
            "Requirement already satisfied: termcolor>=1.1.0 in /usr/local/lib/python3.10/dist-packages (from tensorflow) (2.4.0)\n",
            "Requirement already satisfied: typing-extensions>=3.6.6 in /usr/local/lib/python3.10/dist-packages (from tensorflow) (4.10.0)\n",
            "Requirement already satisfied: wrapt<1.15,>=1.11.0 in /usr/local/lib/python3.10/dist-packages (from tensorflow) (1.14.1)\n",
            "Requirement already satisfied: tensorflow-io-gcs-filesystem>=0.23.1 in /usr/local/lib/python3.10/dist-packages (from tensorflow) (0.36.0)\n",
            "Requirement already satisfied: grpcio<2.0,>=1.24.3 in /usr/local/lib/python3.10/dist-packages (from tensorflow) (1.62.1)\n",
            "Requirement already satisfied: tensorboard<2.16,>=2.15 in /usr/local/lib/python3.10/dist-packages (from tensorflow) (2.15.2)\n",
            "Requirement already satisfied: tensorflow-estimator<2.16,>=2.15.0 in /usr/local/lib/python3.10/dist-packages (from tensorflow) (2.15.0)\n",
            "Requirement already satisfied: keras<2.16,>=2.15.0 in /usr/local/lib/python3.10/dist-packages (from tensorflow) (2.15.0)\n",
            "Requirement already satisfied: wheel<1.0,>=0.23.0 in /usr/local/lib/python3.10/dist-packages (from astunparse>=1.6.0->tensorflow) (0.43.0)\n",
            "Requirement already satisfied: google-auth<3,>=1.6.3 in /usr/local/lib/python3.10/dist-packages (from tensorboard<2.16,>=2.15->tensorflow) (2.27.0)\n",
            "Requirement already satisfied: google-auth-oauthlib<2,>=0.5 in /usr/local/lib/python3.10/dist-packages (from tensorboard<2.16,>=2.15->tensorflow) (1.2.0)\n",
            "Requirement already satisfied: markdown>=2.6.8 in /usr/local/lib/python3.10/dist-packages (from tensorboard<2.16,>=2.15->tensorflow) (3.6)\n",
            "Requirement already satisfied: requests<3,>=2.21.0 in /usr/local/lib/python3.10/dist-packages (from tensorboard<2.16,>=2.15->tensorflow) (2.31.0)\n",
            "Requirement already satisfied: tensorboard-data-server<0.8.0,>=0.7.0 in /usr/local/lib/python3.10/dist-packages (from tensorboard<2.16,>=2.15->tensorflow) (0.7.2)\n",
            "Requirement already satisfied: werkzeug>=1.0.1 in /usr/local/lib/python3.10/dist-packages (from tensorboard<2.16,>=2.15->tensorflow) (3.0.2)\n",
            "Requirement already satisfied: exceptiongroup>=1.1.1 in /usr/local/lib/python3.10/dist-packages (from cattrs->coremltools) (1.2.0)\n",
            "Requirement already satisfied: PyYAML in /usr/local/lib/python3.10/dist-packages (from pyaml->coremltools) (6.0.1)\n",
            "Requirement already satisfied: mpmath>=0.19 in /usr/local/lib/python3.10/dist-packages (from sympy->coremltools) (1.3.0)\n",
            "Requirement already satisfied: cachetools<6.0,>=2.0.0 in /usr/local/lib/python3.10/dist-packages (from google-auth<3,>=1.6.3->tensorboard<2.16,>=2.15->tensorflow) (5.3.3)\n",
            "Requirement already satisfied: pyasn1-modules>=0.2.1 in /usr/local/lib/python3.10/dist-packages (from google-auth<3,>=1.6.3->tensorboard<2.16,>=2.15->tensorflow) (0.4.0)\n",
            "Requirement already satisfied: rsa<5,>=3.1.4 in /usr/local/lib/python3.10/dist-packages (from google-auth<3,>=1.6.3->tensorboard<2.16,>=2.15->tensorflow) (4.9)\n",
            "Requirement already satisfied: requests-oauthlib>=0.7.0 in /usr/local/lib/python3.10/dist-packages (from google-auth-oauthlib<2,>=0.5->tensorboard<2.16,>=2.15->tensorflow) (1.3.1)\n",
            "Requirement already satisfied: charset-normalizer<4,>=2 in /usr/local/lib/python3.10/dist-packages (from requests<3,>=2.21.0->tensorboard<2.16,>=2.15->tensorflow) (3.3.2)\n",
            "Requirement already satisfied: idna<4,>=2.5 in /usr/local/lib/python3.10/dist-packages (from requests<3,>=2.21.0->tensorboard<2.16,>=2.15->tensorflow) (3.6)\n",
            "Requirement already satisfied: urllib3<3,>=1.21.1 in /usr/local/lib/python3.10/dist-packages (from requests<3,>=2.21.0->tensorboard<2.16,>=2.15->tensorflow) (2.0.7)\n",
            "Requirement already satisfied: certifi>=2017.4.17 in /usr/local/lib/python3.10/dist-packages (from requests<3,>=2.21.0->tensorboard<2.16,>=2.15->tensorflow) (2024.2.2)\n",
            "Requirement already satisfied: MarkupSafe>=2.1.1 in /usr/local/lib/python3.10/dist-packages (from werkzeug>=1.0.1->tensorboard<2.16,>=2.15->tensorflow) (2.1.5)\n",
            "Requirement already satisfied: pyasn1<0.7.0,>=0.4.6 in /usr/local/lib/python3.10/dist-packages (from pyasn1-modules>=0.2.1->google-auth<3,>=1.6.3->tensorboard<2.16,>=2.15->tensorflow) (0.6.0)\n",
            "Requirement already satisfied: oauthlib>=3.0.0 in /usr/local/lib/python3.10/dist-packages (from requests-oauthlib>=0.7.0->google-auth-oauthlib<2,>=0.5->tensorboard<2.16,>=2.15->tensorflow) (3.2.2)\n",
            "Installing collected packages: pyaml, cattrs, coremltools\n",
            "Successfully installed cattrs-23.2.3 coremltools-7.1 pyaml-23.12.0\n"
          ]
        }
      ]
    },
    {
      "cell_type": "code",
      "execution_count": 22,
      "metadata": {
        "id": "2ufCcgxZacgr"
      },
      "outputs": [],
      "source": [
        "import pandas as pd\n",
        "import matplotlib.pyplot as plt\n",
        "import numpy as np\n",
        "import math\n",
        "from sklearn.model_selection import train_test_split\n",
        "from sklearn.metrics import confusion_matrix,classification_report,roc_curve, auc\n",
        "\n",
        "\n",
        "import coremltools as ct\n",
        "import tensorflow as tf\n",
        "from tensorflow.keras import layers, models"
      ]
    },
    {
      "cell_type": "code",
      "source": [
        "data = pd.read_csv(r\"/JointData.csv\")\n",
        "data.head()"
      ],
      "metadata": {
        "colab": {
          "base_uri": "https://localhost:8080/",
          "height": 206
        },
        "id": "XB-lkC_Ga4rm",
        "outputId": "02398012-8ff1-402b-c16c-e8e715b1b48d"
      },
      "execution_count": 4,
      "outputs": [
        {
          "output_type": "execute_result",
          "data": {
            "text/plain": [
              "   Joint_1_x  Joint_1_y  Joint_1_z  Joint_2_x  Joint_2_y  Joint_2_z  \\\n",
              "0  -0.301760   0.700509  -2.394472  -0.375628   0.919482  -2.262781   \n",
              "1  -0.301843   0.701633  -2.399184  -0.372513   0.921160  -2.266662   \n",
              "2  -0.299772   0.705295  -2.399802  -0.369456   0.924926  -2.266930   \n",
              "3  -0.297225   0.706963  -2.399491  -0.364455   0.927616  -2.267050   \n",
              "4  -0.291665   0.709357  -2.397982  -0.357722   0.931013  -2.266630   \n",
              "\n",
              "   Joint_3_x  Joint_3_y  Joint_3_z  Correct  \n",
              "0  -0.296678   1.156358  -2.165493        1  \n",
              "1  -0.291070   1.157795  -2.170853        1  \n",
              "2  -0.287693   1.161609  -2.171512        1  \n",
              "3  -0.283013   1.164751  -2.172484        1  \n",
              "4  -0.277320   1.168708  -2.172583        1  "
            ],
            "text/html": [
              "\n",
              "  <div id=\"df-1410c541-56f9-43f0-8f5c-9aa1d0869604\" class=\"colab-df-container\">\n",
              "    <div>\n",
              "<style scoped>\n",
              "    .dataframe tbody tr th:only-of-type {\n",
              "        vertical-align: middle;\n",
              "    }\n",
              "\n",
              "    .dataframe tbody tr th {\n",
              "        vertical-align: top;\n",
              "    }\n",
              "\n",
              "    .dataframe thead th {\n",
              "        text-align: right;\n",
              "    }\n",
              "</style>\n",
              "<table border=\"1\" class=\"dataframe\">\n",
              "  <thead>\n",
              "    <tr style=\"text-align: right;\">\n",
              "      <th></th>\n",
              "      <th>Joint_1_x</th>\n",
              "      <th>Joint_1_y</th>\n",
              "      <th>Joint_1_z</th>\n",
              "      <th>Joint_2_x</th>\n",
              "      <th>Joint_2_y</th>\n",
              "      <th>Joint_2_z</th>\n",
              "      <th>Joint_3_x</th>\n",
              "      <th>Joint_3_y</th>\n",
              "      <th>Joint_3_z</th>\n",
              "      <th>Correct</th>\n",
              "    </tr>\n",
              "  </thead>\n",
              "  <tbody>\n",
              "    <tr>\n",
              "      <th>0</th>\n",
              "      <td>-0.301760</td>\n",
              "      <td>0.700509</td>\n",
              "      <td>-2.394472</td>\n",
              "      <td>-0.375628</td>\n",
              "      <td>0.919482</td>\n",
              "      <td>-2.262781</td>\n",
              "      <td>-0.296678</td>\n",
              "      <td>1.156358</td>\n",
              "      <td>-2.165493</td>\n",
              "      <td>1</td>\n",
              "    </tr>\n",
              "    <tr>\n",
              "      <th>1</th>\n",
              "      <td>-0.301843</td>\n",
              "      <td>0.701633</td>\n",
              "      <td>-2.399184</td>\n",
              "      <td>-0.372513</td>\n",
              "      <td>0.921160</td>\n",
              "      <td>-2.266662</td>\n",
              "      <td>-0.291070</td>\n",
              "      <td>1.157795</td>\n",
              "      <td>-2.170853</td>\n",
              "      <td>1</td>\n",
              "    </tr>\n",
              "    <tr>\n",
              "      <th>2</th>\n",
              "      <td>-0.299772</td>\n",
              "      <td>0.705295</td>\n",
              "      <td>-2.399802</td>\n",
              "      <td>-0.369456</td>\n",
              "      <td>0.924926</td>\n",
              "      <td>-2.266930</td>\n",
              "      <td>-0.287693</td>\n",
              "      <td>1.161609</td>\n",
              "      <td>-2.171512</td>\n",
              "      <td>1</td>\n",
              "    </tr>\n",
              "    <tr>\n",
              "      <th>3</th>\n",
              "      <td>-0.297225</td>\n",
              "      <td>0.706963</td>\n",
              "      <td>-2.399491</td>\n",
              "      <td>-0.364455</td>\n",
              "      <td>0.927616</td>\n",
              "      <td>-2.267050</td>\n",
              "      <td>-0.283013</td>\n",
              "      <td>1.164751</td>\n",
              "      <td>-2.172484</td>\n",
              "      <td>1</td>\n",
              "    </tr>\n",
              "    <tr>\n",
              "      <th>4</th>\n",
              "      <td>-0.291665</td>\n",
              "      <td>0.709357</td>\n",
              "      <td>-2.397982</td>\n",
              "      <td>-0.357722</td>\n",
              "      <td>0.931013</td>\n",
              "      <td>-2.266630</td>\n",
              "      <td>-0.277320</td>\n",
              "      <td>1.168708</td>\n",
              "      <td>-2.172583</td>\n",
              "      <td>1</td>\n",
              "    </tr>\n",
              "  </tbody>\n",
              "</table>\n",
              "</div>\n",
              "    <div class=\"colab-df-buttons\">\n",
              "\n",
              "  <div class=\"colab-df-container\">\n",
              "    <button class=\"colab-df-convert\" onclick=\"convertToInteractive('df-1410c541-56f9-43f0-8f5c-9aa1d0869604')\"\n",
              "            title=\"Convert this dataframe to an interactive table.\"\n",
              "            style=\"display:none;\">\n",
              "\n",
              "  <svg xmlns=\"http://www.w3.org/2000/svg\" height=\"24px\" viewBox=\"0 -960 960 960\">\n",
              "    <path d=\"M120-120v-720h720v720H120Zm60-500h600v-160H180v160Zm220 220h160v-160H400v160Zm0 220h160v-160H400v160ZM180-400h160v-160H180v160Zm440 0h160v-160H620v160ZM180-180h160v-160H180v160Zm440 0h160v-160H620v160Z\"/>\n",
              "  </svg>\n",
              "    </button>\n",
              "\n",
              "  <style>\n",
              "    .colab-df-container {\n",
              "      display:flex;\n",
              "      gap: 12px;\n",
              "    }\n",
              "\n",
              "    .colab-df-convert {\n",
              "      background-color: #E8F0FE;\n",
              "      border: none;\n",
              "      border-radius: 50%;\n",
              "      cursor: pointer;\n",
              "      display: none;\n",
              "      fill: #1967D2;\n",
              "      height: 32px;\n",
              "      padding: 0 0 0 0;\n",
              "      width: 32px;\n",
              "    }\n",
              "\n",
              "    .colab-df-convert:hover {\n",
              "      background-color: #E2EBFA;\n",
              "      box-shadow: 0px 1px 2px rgba(60, 64, 67, 0.3), 0px 1px 3px 1px rgba(60, 64, 67, 0.15);\n",
              "      fill: #174EA6;\n",
              "    }\n",
              "\n",
              "    .colab-df-buttons div {\n",
              "      margin-bottom: 4px;\n",
              "    }\n",
              "\n",
              "    [theme=dark] .colab-df-convert {\n",
              "      background-color: #3B4455;\n",
              "      fill: #D2E3FC;\n",
              "    }\n",
              "\n",
              "    [theme=dark] .colab-df-convert:hover {\n",
              "      background-color: #434B5C;\n",
              "      box-shadow: 0px 1px 3px 1px rgba(0, 0, 0, 0.15);\n",
              "      filter: drop-shadow(0px 1px 2px rgba(0, 0, 0, 0.3));\n",
              "      fill: #FFFFFF;\n",
              "    }\n",
              "  </style>\n",
              "\n",
              "    <script>\n",
              "      const buttonEl =\n",
              "        document.querySelector('#df-1410c541-56f9-43f0-8f5c-9aa1d0869604 button.colab-df-convert');\n",
              "      buttonEl.style.display =\n",
              "        google.colab.kernel.accessAllowed ? 'block' : 'none';\n",
              "\n",
              "      async function convertToInteractive(key) {\n",
              "        const element = document.querySelector('#df-1410c541-56f9-43f0-8f5c-9aa1d0869604');\n",
              "        const dataTable =\n",
              "          await google.colab.kernel.invokeFunction('convertToInteractive',\n",
              "                                                    [key], {});\n",
              "        if (!dataTable) return;\n",
              "\n",
              "        const docLinkHtml = 'Like what you see? Visit the ' +\n",
              "          '<a target=\"_blank\" href=https://colab.research.google.com/notebooks/data_table.ipynb>data table notebook</a>'\n",
              "          + ' to learn more about interactive tables.';\n",
              "        element.innerHTML = '';\n",
              "        dataTable['output_type'] = 'display_data';\n",
              "        await google.colab.output.renderOutput(dataTable, element);\n",
              "        const docLink = document.createElement('div');\n",
              "        docLink.innerHTML = docLinkHtml;\n",
              "        element.appendChild(docLink);\n",
              "      }\n",
              "    </script>\n",
              "  </div>\n",
              "\n",
              "\n",
              "<div id=\"df-41fe0332-81eb-4156-ab73-537db2a72d8c\">\n",
              "  <button class=\"colab-df-quickchart\" onclick=\"quickchart('df-41fe0332-81eb-4156-ab73-537db2a72d8c')\"\n",
              "            title=\"Suggest charts\"\n",
              "            style=\"display:none;\">\n",
              "\n",
              "<svg xmlns=\"http://www.w3.org/2000/svg\" height=\"24px\"viewBox=\"0 0 24 24\"\n",
              "     width=\"24px\">\n",
              "    <g>\n",
              "        <path d=\"M19 3H5c-1.1 0-2 .9-2 2v14c0 1.1.9 2 2 2h14c1.1 0 2-.9 2-2V5c0-1.1-.9-2-2-2zM9 17H7v-7h2v7zm4 0h-2V7h2v10zm4 0h-2v-4h2v4z\"/>\n",
              "    </g>\n",
              "</svg>\n",
              "  </button>\n",
              "\n",
              "<style>\n",
              "  .colab-df-quickchart {\n",
              "      --bg-color: #E8F0FE;\n",
              "      --fill-color: #1967D2;\n",
              "      --hover-bg-color: #E2EBFA;\n",
              "      --hover-fill-color: #174EA6;\n",
              "      --disabled-fill-color: #AAA;\n",
              "      --disabled-bg-color: #DDD;\n",
              "  }\n",
              "\n",
              "  [theme=dark] .colab-df-quickchart {\n",
              "      --bg-color: #3B4455;\n",
              "      --fill-color: #D2E3FC;\n",
              "      --hover-bg-color: #434B5C;\n",
              "      --hover-fill-color: #FFFFFF;\n",
              "      --disabled-bg-color: #3B4455;\n",
              "      --disabled-fill-color: #666;\n",
              "  }\n",
              "\n",
              "  .colab-df-quickchart {\n",
              "    background-color: var(--bg-color);\n",
              "    border: none;\n",
              "    border-radius: 50%;\n",
              "    cursor: pointer;\n",
              "    display: none;\n",
              "    fill: var(--fill-color);\n",
              "    height: 32px;\n",
              "    padding: 0;\n",
              "    width: 32px;\n",
              "  }\n",
              "\n",
              "  .colab-df-quickchart:hover {\n",
              "    background-color: var(--hover-bg-color);\n",
              "    box-shadow: 0 1px 2px rgba(60, 64, 67, 0.3), 0 1px 3px 1px rgba(60, 64, 67, 0.15);\n",
              "    fill: var(--button-hover-fill-color);\n",
              "  }\n",
              "\n",
              "  .colab-df-quickchart-complete:disabled,\n",
              "  .colab-df-quickchart-complete:disabled:hover {\n",
              "    background-color: var(--disabled-bg-color);\n",
              "    fill: var(--disabled-fill-color);\n",
              "    box-shadow: none;\n",
              "  }\n",
              "\n",
              "  .colab-df-spinner {\n",
              "    border: 2px solid var(--fill-color);\n",
              "    border-color: transparent;\n",
              "    border-bottom-color: var(--fill-color);\n",
              "    animation:\n",
              "      spin 1s steps(1) infinite;\n",
              "  }\n",
              "\n",
              "  @keyframes spin {\n",
              "    0% {\n",
              "      border-color: transparent;\n",
              "      border-bottom-color: var(--fill-color);\n",
              "      border-left-color: var(--fill-color);\n",
              "    }\n",
              "    20% {\n",
              "      border-color: transparent;\n",
              "      border-left-color: var(--fill-color);\n",
              "      border-top-color: var(--fill-color);\n",
              "    }\n",
              "    30% {\n",
              "      border-color: transparent;\n",
              "      border-left-color: var(--fill-color);\n",
              "      border-top-color: var(--fill-color);\n",
              "      border-right-color: var(--fill-color);\n",
              "    }\n",
              "    40% {\n",
              "      border-color: transparent;\n",
              "      border-right-color: var(--fill-color);\n",
              "      border-top-color: var(--fill-color);\n",
              "    }\n",
              "    60% {\n",
              "      border-color: transparent;\n",
              "      border-right-color: var(--fill-color);\n",
              "    }\n",
              "    80% {\n",
              "      border-color: transparent;\n",
              "      border-right-color: var(--fill-color);\n",
              "      border-bottom-color: var(--fill-color);\n",
              "    }\n",
              "    90% {\n",
              "      border-color: transparent;\n",
              "      border-bottom-color: var(--fill-color);\n",
              "    }\n",
              "  }\n",
              "</style>\n",
              "\n",
              "  <script>\n",
              "    async function quickchart(key) {\n",
              "      const quickchartButtonEl =\n",
              "        document.querySelector('#' + key + ' button');\n",
              "      quickchartButtonEl.disabled = true;  // To prevent multiple clicks.\n",
              "      quickchartButtonEl.classList.add('colab-df-spinner');\n",
              "      try {\n",
              "        const charts = await google.colab.kernel.invokeFunction(\n",
              "            'suggestCharts', [key], {});\n",
              "      } catch (error) {\n",
              "        console.error('Error during call to suggestCharts:', error);\n",
              "      }\n",
              "      quickchartButtonEl.classList.remove('colab-df-spinner');\n",
              "      quickchartButtonEl.classList.add('colab-df-quickchart-complete');\n",
              "    }\n",
              "    (() => {\n",
              "      let quickchartButtonEl =\n",
              "        document.querySelector('#df-41fe0332-81eb-4156-ab73-537db2a72d8c button');\n",
              "      quickchartButtonEl.style.display =\n",
              "        google.colab.kernel.accessAllowed ? 'block' : 'none';\n",
              "    })();\n",
              "  </script>\n",
              "</div>\n",
              "\n",
              "    </div>\n",
              "  </div>\n"
            ],
            "application/vnd.google.colaboratory.intrinsic+json": {
              "type": "dataframe",
              "variable_name": "data",
              "summary": "{\n  \"name\": \"data\",\n  \"rows\": 2851,\n  \"fields\": [\n    {\n      \"column\": \"Joint_1_x\",\n      \"properties\": {\n        \"dtype\": \"number\",\n        \"std\": 0.04807843758454783,\n        \"min\": -0.5724334,\n        \"max\": -0.2834234,\n        \"num_unique_values\": 2786,\n        \"samples\": [\n          -0.3204833,\n          -0.4533145,\n          -0.4140798\n        ],\n        \"semantic_type\": \"\",\n        \"description\": \"\"\n      }\n    },\n    {\n      \"column\": \"Joint_1_y\",\n      \"properties\": {\n        \"dtype\": \"number\",\n        \"std\": 0.049131425806047575,\n        \"min\": 0.485854,\n        \"max\": 0.752802,\n        \"num_unique_values\": 2785,\n        \"samples\": [\n          0.7175391,\n          0.5146448,\n          0.5868685\n        ],\n        \"semantic_type\": \"\",\n        \"description\": \"\"\n      }\n    },\n    {\n      \"column\": \"Joint_1_z\",\n      \"properties\": {\n        \"dtype\": \"number\",\n        \"std\": 0.16968476821238562,\n        \"min\": -2.68617,\n        \"max\": -1.056825,\n        \"num_unique_values\": 2762,\n        \"samples\": [\n          -2.454698,\n          -1.070093,\n          -2.575827\n        ],\n        \"semantic_type\": \"\",\n        \"description\": \"\"\n      }\n    },\n    {\n      \"column\": \"Joint_2_x\",\n      \"properties\": {\n        \"dtype\": \"number\",\n        \"std\": 0.08541596741477696,\n        \"min\": -0.7283446,\n        \"max\": -0.342952,\n        \"num_unique_values\": 2785,\n        \"samples\": [\n          -0.5087496,\n          -0.527743,\n          -0.5652565\n        ],\n        \"semantic_type\": \"\",\n        \"description\": \"\"\n      }\n    },\n    {\n      \"column\": \"Joint_2_y\",\n      \"properties\": {\n        \"dtype\": \"number\",\n        \"std\": 0.20193667026167597,\n        \"min\": 0.2480869,\n        \"max\": 0.9849523,\n        \"num_unique_values\": 2788,\n        \"samples\": [\n          0.9047437,\n          0.2720226,\n          0.3841193\n        ],\n        \"semantic_type\": \"\",\n        \"description\": \"\"\n      }\n    },\n    {\n      \"column\": \"Joint_2_z\",\n      \"properties\": {\n        \"dtype\": \"number\",\n        \"std\": 0.18015358702444395,\n        \"min\": -2.730029,\n        \"max\": -1.141236,\n        \"num_unique_values\": 2777,\n        \"samples\": [\n          -2.350558,\n          -2.605725,\n          -2.324986\n        ],\n        \"semantic_type\": \"\",\n        \"description\": \"\"\n      }\n    },\n    {\n      \"column\": \"Joint_3_x\",\n      \"properties\": {\n        \"dtype\": \"number\",\n        \"std\": 0.17071508119251266,\n        \"min\": -0.965781,\n        \"max\": -0.2434407,\n        \"num_unique_values\": 2789,\n        \"samples\": [\n          -0.5254142,\n          -0.6886628,\n          -0.6356202\n        ],\n        \"semantic_type\": \"\",\n        \"description\": \"\"\n      }\n    },\n    {\n      \"column\": \"Joint_3_y\",\n      \"properties\": {\n        \"dtype\": \"number\",\n        \"std\": 0.37764692237107844,\n        \"min\": 0.01065798,\n        \"max\": 1.231057,\n        \"num_unique_values\": 2787,\n        \"samples\": [\n          1.126764,\n          0.03400871,\n          0.1452845\n        ],\n        \"semantic_type\": \"\",\n        \"description\": \"\"\n      }\n    },\n    {\n      \"column\": \"Joint_3_z\",\n      \"properties\": {\n        \"dtype\": \"number\",\n        \"std\": 0.1845565073212377,\n        \"min\": -2.618246,\n        \"max\": -0.9955986,\n        \"num_unique_values\": 2764,\n        \"samples\": [\n          -2.538418,\n          -2.173492,\n          -2.335422\n        ],\n        \"semantic_type\": \"\",\n        \"description\": \"\"\n      }\n    },\n    {\n      \"column\": \"Correct\",\n      \"properties\": {\n        \"dtype\": \"number\",\n        \"std\": 0,\n        \"min\": 0,\n        \"max\": 1,\n        \"num_unique_values\": 2,\n        \"samples\": [\n          0,\n          1\n        ],\n        \"semantic_type\": \"\",\n        \"description\": \"\"\n      }\n    }\n  ]\n}"
            }
          },
          "metadata": {},
          "execution_count": 4
        }
      ]
    },
    {
      "cell_type": "code",
      "source": [
        "# Extract features (X) and labels (y)\n",
        "X = data[['Joint_1_x', 'Joint_1_y', 'Joint_1_z', 'Joint_2_x', 'Joint_2_y', 'Joint_2_z', 'Joint_3_x', 'Joint_3_y', 'Joint_3_z']].values\n",
        "y = data['Correct'].values"
      ],
      "metadata": {
        "id": "CCUkKAVSa8wa"
      },
      "execution_count": 5,
      "outputs": []
    },
    {
      "cell_type": "code",
      "source": [
        "# Split the dataset into training, validation, and test sets\n",
        "X_train, X_temp, y_train, y_temp = train_test_split(X, y, test_size=0.3, random_state=42)\n",
        "X_val, X_test, y_val, y_test = train_test_split(X_temp, y_temp, test_size=0.5, random_state=42)\n"
      ],
      "metadata": {
        "id": "AJkW_cvXbDr5"
      },
      "execution_count": 6,
      "outputs": []
    },
    {
      "cell_type": "code",
      "source": [
        "# Reshape input data to match model's input shape\n",
        "X_train_reshaped = X_train.reshape(-1, 3, 3)\n",
        "X_val_reshaped = X_val.reshape(-1, 3, 3)\n",
        "X_test_reshaped = X_test.reshape(-1, 3, 3)"
      ],
      "metadata": {
        "id": "7PzTiCdXc19K"
      },
      "execution_count": 7,
      "outputs": []
    },
    {
      "cell_type": "code",
      "source": [
        "def create_model(input_shape):\n",
        "    model = models.Sequential([\n",
        "        layers.Flatten(input_shape=input_shape),\n",
        "        layers.Dense(128, activation='relu'),\n",
        "        layers.Dropout(0.5),\n",
        "        layers.Dense(64, activation='relu'),\n",
        "        layers.Dropout(0.5),\n",
        "        layers.Dense(1, activation='sigmoid')  # Assuming binary classification (correct/incorrect)\n",
        "    ])\n",
        "    model.compile(optimizer='adam', loss='binary_crossentropy', metrics=['accuracy'])\n",
        "    return model"
      ],
      "metadata": {
        "id": "YqJrZq15bEXP"
      },
      "execution_count": 8,
      "outputs": []
    },
    {
      "cell_type": "code",
      "source": [
        "# 4. Training\n",
        "model = create_model(input_shape=(3, 3))\n",
        "model.fit(X_train_reshaped, y_train, epochs=10, batch_size=32, validation_data=(X_val_reshaped, y_val))\n",
        "# Save the model in .h5 format\n",
        "#model.save('exercise_model.h5')\n",
        "model.save('my_model')"
      ],
      "metadata": {
        "colab": {
          "base_uri": "https://localhost:8080/"
        },
        "id": "-9rKiHCvbGq8",
        "outputId": "0d0adc46-b63f-4378-c0b7-fb7f12d7b2d8"
      },
      "execution_count": 11,
      "outputs": [
        {
          "output_type": "stream",
          "name": "stdout",
          "text": [
            "Epoch 1/10\n",
            "63/63 [==============================] - 2s 11ms/step - loss: 0.6854 - accuracy: 0.5634 - val_loss: 0.6260 - val_accuracy: 0.6145\n",
            "Epoch 2/10\n",
            "63/63 [==============================] - 0s 6ms/step - loss: 0.6062 - accuracy: 0.6571 - val_loss: 0.5637 - val_accuracy: 0.6449\n",
            "Epoch 3/10\n",
            "63/63 [==============================] - 0s 4ms/step - loss: 0.5663 - accuracy: 0.6987 - val_loss: 0.5407 - val_accuracy: 0.6449\n",
            "Epoch 4/10\n",
            "63/63 [==============================] - 0s 3ms/step - loss: 0.5186 - accuracy: 0.7243 - val_loss: 0.4990 - val_accuracy: 0.7804\n",
            "Epoch 5/10\n",
            "63/63 [==============================] - 0s 3ms/step - loss: 0.4961 - accuracy: 0.7474 - val_loss: 0.4757 - val_accuracy: 0.7897\n",
            "Epoch 6/10\n",
            "63/63 [==============================] - 0s 4ms/step - loss: 0.4669 - accuracy: 0.7574 - val_loss: 0.4628 - val_accuracy: 0.7757\n",
            "Epoch 7/10\n",
            "63/63 [==============================] - 0s 3ms/step - loss: 0.4484 - accuracy: 0.7709 - val_loss: 0.4592 - val_accuracy: 0.7126\n",
            "Epoch 8/10\n",
            "63/63 [==============================] - 0s 3ms/step - loss: 0.4370 - accuracy: 0.7890 - val_loss: 0.4359 - val_accuracy: 0.7921\n",
            "Epoch 9/10\n",
            "63/63 [==============================] - 0s 3ms/step - loss: 0.4093 - accuracy: 0.8045 - val_loss: 0.4135 - val_accuracy: 0.8154\n",
            "Epoch 10/10\n",
            "63/63 [==============================] - 0s 3ms/step - loss: 0.3954 - accuracy: 0.8221 - val_loss: 0.3876 - val_accuracy: 0.8248\n"
          ]
        }
      ]
    },
    {
      "cell_type": "code",
      "source": [
        "test_loss, test_accuracy = model.evaluate(X_test_reshaped, y_test)\n",
        "print(\"Test Accuracy:\", test_accuracy)\n"
      ],
      "metadata": {
        "colab": {
          "base_uri": "https://localhost:8080/"
        },
        "id": "55CAW5rjVU5y",
        "outputId": "74b724ec-b6a8-4a59-99f2-f50c6ca1650e"
      },
      "execution_count": 13,
      "outputs": [
        {
          "output_type": "stream",
          "name": "stdout",
          "text": [
            "14/14 [==============================] - 0s 3ms/step - loss: 0.3953 - accuracy: 0.8061\n",
            "Test Accuracy: 0.8060747385025024\n"
          ]
        }
      ]
    },
    {
      "cell_type": "code",
      "source": [
        "y_pred_prob = model.predict(X_test_reshaped)\n",
        "y_pred = (y_pred_prob > 0.5).astype(int)\n",
        "conf_matrix = confusion_matrix(y_test, y_pred)\n",
        "print(\"Confusion Matrix:\")\n",
        "print(conf_matrix)"
      ],
      "metadata": {
        "colab": {
          "base_uri": "https://localhost:8080/"
        },
        "id": "UrKYRACAVgGH",
        "outputId": "a06e105e-2131-4de3-b5fc-da447439725a"
      },
      "execution_count": 18,
      "outputs": [
        {
          "output_type": "stream",
          "name": "stdout",
          "text": [
            "14/14 [==============================] - 0s 3ms/step\n",
            "Confusion Matrix:\n",
            "[[163  83]\n",
            " [  0 182]]\n"
          ]
        }
      ]
    },
    {
      "cell_type": "code",
      "source": [
        "report = classification_report(y_test, y_pred)\n",
        "print(\"Classification Report:\")\n",
        "print(report)"
      ],
      "metadata": {
        "colab": {
          "base_uri": "https://localhost:8080/"
        },
        "id": "rAllf9uuWiM-",
        "outputId": "b0d113b7-d949-402b-9061-71f7348dc477"
      },
      "execution_count": 20,
      "outputs": [
        {
          "output_type": "stream",
          "name": "stdout",
          "text": [
            "Classification Report:\n",
            "              precision    recall  f1-score   support\n",
            "\n",
            "           0       1.00      0.66      0.80       246\n",
            "           1       0.69      1.00      0.81       182\n",
            "\n",
            "    accuracy                           0.81       428\n",
            "   macro avg       0.84      0.83      0.81       428\n",
            "weighted avg       0.87      0.81      0.80       428\n",
            "\n"
          ]
        }
      ]
    },
    {
      "cell_type": "code",
      "source": [
        "fpr, tpr, thresholds = roc_curve(y_test, y_pred)\n",
        "roc_auc = auc(fpr, tpr)\n",
        "\n",
        "plt.figure()\n",
        "plt.plot(fpr, tpr, color='darkorange', lw=2, label='ROC curve (area = %0.2f)' % roc_auc)\n",
        "plt.plot([0, 1], [0, 1], color='navy', lw=2, linestyle='--')\n",
        "plt.xlim([0.0, 1.0])\n",
        "plt.ylim([0.0, 1.05])\n",
        "plt.xlabel('False Positive Rate')\n",
        "plt.ylabel('True Positive Rate')\n",
        "plt.title('Receiver Operating Characteristic')\n",
        "plt.legend(loc=\"lower right\")\n",
        "plt.show()"
      ],
      "metadata": {
        "colab": {
          "base_uri": "https://localhost:8080/",
          "height": 472
        },
        "id": "mfUsMYBdW-3P",
        "outputId": "4e3c02c9-a247-4eaf-d92f-654af3e3ab99"
      },
      "execution_count": 23,
      "outputs": [
        {
          "output_type": "display_data",
          "data": {
            "text/plain": [
              "<Figure size 640x480 with 1 Axes>"
            ],
            "image/png": "[encoded data removed]"
          },
          "metadata": {}
        }
      ]
    },
    {
      "cell_type": "code",
      "source": [
        "mlmodel = ct.convert(\"my_model\")\n",
        "mlmodel.save(\"my_model.mlpackage\")"
      ],
      "metadata": {
        "colab": {
          "base_uri": "https://localhost:8080/"
        },
        "id": "wPn9wMS1dCnK",
        "outputId": "5f0e64bd-fa2f-452e-b6d3-0920b9921316"
      },
      "execution_count": 12,
      "outputs": [
        {
          "output_type": "stream",
          "name": "stderr",
          "text": [
            "WARNING:coremltools:When both 'convert_to' and 'minimum_deployment_target' not specified, 'convert_to' is set to \"mlprogram\" and 'minimum_deployment_targer' is set to ct.target.iOS15 (which is same as ct.target.macOS12). Note: the model will not run on systems older than iOS15/macOS12/watchOS8/tvOS15. In order to make your model run on older system, please set the 'minimum_deployment_target' to iOS14/iOS13. Details please see the link: https://coremltools.readme.io/docs/unified-conversion-api#target-conversion-formats\n",
            "Running TensorFlow Graph Passes: 100%|██████████| 6/6 [00:00<00:00, 11.07 passes/s]\n",
            "Converting TF Frontend ==> MIL Ops: 100%|██████████| 19/19 [00:00<00:00, 213.86 ops/s]\n",
            "Running MIL frontend_tensorflow2 pipeline: 100%|██████████| 7/7 [00:00<00:00, 4016.98 passes/s]\n",
            "Running MIL default pipeline: 100%|██████████| 71/71 [00:00<00:00, 715.82 passes/s]\n",
            "Running MIL backend_mlprogram pipeline: 100%|██████████| 12/12 [00:00<00:00, 3355.67 passes/s]\n",
            "/usr/local/lib/python3.10/dist-packages/coremltools/converters/mil/backend/mil/load.py:581: UserWarning: Some dimensions in the input shape are unknown, hence they are set to flexible ranges with lower bound and default value = 1, and upper bound = 2. To set different values for the default shape and upper bound, please use the ct.RangeDim() method as described here: https://coremltools.readme.io/docs/flexible-inputs#set-the-range-for-each-dimension.\n",
            "  warnings.warn(\n",
            "/usr/local/lib/python3.10/dist-packages/coremltools/converters/mil/backend/mil/load.py:591: UserWarning: There is \"None\" dim in TF input placeholder. Please consider specifying input shapes by using the \"inputs\" param in ct.convert().\n",
            "  warnings.warn(\n"
          ]
        }
      ]
    },
    {
      "cell_type": "code",
      "source": [
        "!zip -r /content/my_model.zip /content/my_model.mlpackage"
      ],
      "metadata": {
        "colab": {
          "base_uri": "https://localhost:8080/"
        },
        "id": "1UqF3V7uh96u",
        "outputId": "0454437d-8213-4088-83ce-8d930e997529"
      },
      "execution_count": null,
      "outputs": [
        {
          "output_type": "stream",
          "name": "stdout",
          "text": [
            "  adding: content/my_model.mlpackage/ (stored 0%)\n",
            "  adding: content/my_model.mlpackage/Data/ (stored 0%)\n",
            "  adding: content/my_model.mlpackage/Data/com.apple.CoreML/ (stored 0%)\n",
            "  adding: content/my_model.mlpackage/Data/com.apple.CoreML/weights/ (stored 0%)\n",
            "  adding: content/my_model.mlpackage/Data/com.apple.CoreML/weights/weight.bin (deflated 10%)\n",
            "  adding: content/my_model.mlpackage/Data/com.apple.CoreML/model.mlmodel (deflated 77%)\n",
            "  adding: content/my_model.mlpackage/Manifest.json (deflated 59%)\n"
          ]
        }
      ]
    }
  ]
}